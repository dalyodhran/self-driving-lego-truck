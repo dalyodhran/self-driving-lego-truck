{
 "cells": [
  {
   "cell_type": "code",
   "execution_count": 1,
   "metadata": {
    "collapsed": true
   },
   "outputs": [
    {
     "name": "stdout",
     "output_type": "stream",
     "text": [
      "Requirement already satisfied: opencv-python==4.4.0.44 in ./venv/lib/python3.7/site-packages (from -r requirements.txt (line 1)) (4.4.0.44)\r\n",
      "Requirement already satisfied: numpy==1.19.3 in ./venv/lib/python3.7/site-packages (from -r requirements.txt (line 2)) (1.19.3)\r\n",
      "Requirement already satisfied: pandas==1.1.3 in ./venv/lib/python3.7/site-packages (from -r requirements.txt (line 3)) (1.1.3)\r\n",
      "Requirement already satisfied: matplotlib==3.3.2 in ./venv/lib/python3.7/site-packages (from -r requirements.txt (line 4)) (3.3.2)\r\n",
      "Requirement already satisfied: scikit-learn==0.23.2 in ./venv/lib/python3.7/site-packages (from -r requirements.txt (line 5)) (0.23.2)\r\n",
      "Requirement already satisfied: tensorflow==2.5.0 in ./venv/lib/python3.7/site-packages (from -r requirements.txt (line 6)) (2.5.0)\r\n",
      "Requirement already satisfied: imgaug==0.4.0 in ./venv/lib/python3.7/site-packages (from -r requirements.txt (line 7)) (0.4.0)\r\n",
      "Requirement already satisfied: python-dateutil>=2.7.3 in ./venv/lib/python3.7/site-packages (from pandas==1.1.3->-r requirements.txt (line 3)) (2.8.2)\r\n",
      "Requirement already satisfied: pytz>=2017.2 in ./venv/lib/python3.7/site-packages (from pandas==1.1.3->-r requirements.txt (line 3)) (2022.1)\r\n",
      "Requirement already satisfied: certifi>=2020.06.20 in ./venv/lib/python3.7/site-packages (from matplotlib==3.3.2->-r requirements.txt (line 4)) (2021.10.8)\r\n",
      "Requirement already satisfied: pillow>=6.2.0 in ./venv/lib/python3.7/site-packages (from matplotlib==3.3.2->-r requirements.txt (line 4)) (9.1.0)\r\n",
      "Requirement already satisfied: cycler>=0.10 in ./venv/lib/python3.7/site-packages (from matplotlib==3.3.2->-r requirements.txt (line 4)) (0.11.0)\r\n",
      "Requirement already satisfied: kiwisolver>=1.0.1 in ./venv/lib/python3.7/site-packages (from matplotlib==3.3.2->-r requirements.txt (line 4)) (1.4.2)\r\n",
      "Requirement already satisfied: pyparsing!=2.0.4,!=2.1.2,!=2.1.6,>=2.0.3 in ./venv/lib/python3.7/site-packages (from matplotlib==3.3.2->-r requirements.txt (line 4)) (3.0.7)\r\n",
      "Requirement already satisfied: scipy>=0.19.1 in ./venv/lib/python3.7/site-packages (from scikit-learn==0.23.2->-r requirements.txt (line 5)) (1.7.3)\r\n",
      "Requirement already satisfied: joblib>=0.11 in ./venv/lib/python3.7/site-packages (from scikit-learn==0.23.2->-r requirements.txt (line 5)) (1.1.0)\r\n",
      "Requirement already satisfied: threadpoolctl>=2.0.0 in ./venv/lib/python3.7/site-packages (from scikit-learn==0.23.2->-r requirements.txt (line 5)) (3.1.0)\r\n",
      "Requirement already satisfied: tensorflow-estimator<2.6.0,>=2.5.0rc0 in ./venv/lib/python3.7/site-packages (from tensorflow==2.5.0->-r requirements.txt (line 6)) (2.5.0)\r\n",
      "Requirement already satisfied: gast==0.4.0 in ./venv/lib/python3.7/site-packages (from tensorflow==2.5.0->-r requirements.txt (line 6)) (0.4.0)\r\n",
      "Requirement already satisfied: absl-py~=0.10 in ./venv/lib/python3.7/site-packages (from tensorflow==2.5.0->-r requirements.txt (line 6)) (0.15.0)\r\n",
      "Requirement already satisfied: wrapt~=1.12.1 in ./venv/lib/python3.7/site-packages (from tensorflow==2.5.0->-r requirements.txt (line 6)) (1.12.1)\r\n",
      "Requirement already satisfied: h5py~=3.1.0 in ./venv/lib/python3.7/site-packages (from tensorflow==2.5.0->-r requirements.txt (line 6)) (3.1.0)\r\n",
      "Requirement already satisfied: flatbuffers~=1.12.0 in ./venv/lib/python3.7/site-packages (from tensorflow==2.5.0->-r requirements.txt (line 6)) (1.12)\r\n",
      "Requirement already satisfied: wheel~=0.35 in ./venv/lib/python3.7/site-packages (from tensorflow==2.5.0->-r requirements.txt (line 6)) (0.36.2)\r\n",
      "Requirement already satisfied: keras-nightly~=2.5.0.dev in ./venv/lib/python3.7/site-packages (from tensorflow==2.5.0->-r requirements.txt (line 6)) (2.5.0.dev2021032900)\r\n",
      "Requirement already satisfied: protobuf>=3.9.2 in ./venv/lib/python3.7/site-packages (from tensorflow==2.5.0->-r requirements.txt (line 6)) (3.20.0)\r\n",
      "Requirement already satisfied: opt-einsum~=3.3.0 in ./venv/lib/python3.7/site-packages (from tensorflow==2.5.0->-r requirements.txt (line 6)) (3.3.0)\r\n",
      "Requirement already satisfied: six~=1.15.0 in ./venv/lib/python3.7/site-packages (from tensorflow==2.5.0->-r requirements.txt (line 6)) (1.15.0)\r\n",
      "Requirement already satisfied: typing-extensions~=3.7.4 in ./venv/lib/python3.7/site-packages (from tensorflow==2.5.0->-r requirements.txt (line 6)) (3.7.4.3)\r\n",
      "Requirement already satisfied: termcolor~=1.1.0 in ./venv/lib/python3.7/site-packages (from tensorflow==2.5.0->-r requirements.txt (line 6)) (1.1.0)\r\n",
      "Requirement already satisfied: grpcio~=1.34.0 in ./venv/lib/python3.7/site-packages (from tensorflow==2.5.0->-r requirements.txt (line 6)) (1.34.1)\r\n",
      "Requirement already satisfied: tensorboard~=2.5 in ./venv/lib/python3.7/site-packages (from tensorflow==2.5.0->-r requirements.txt (line 6)) (2.8.0)\r\n",
      "Requirement already satisfied: google-pasta~=0.2 in ./venv/lib/python3.7/site-packages (from tensorflow==2.5.0->-r requirements.txt (line 6)) (0.2.0)\r\n",
      "Requirement already satisfied: keras-preprocessing~=1.1.2 in ./venv/lib/python3.7/site-packages (from tensorflow==2.5.0->-r requirements.txt (line 6)) (1.1.2)\r\n",
      "Requirement already satisfied: astunparse~=1.6.3 in ./venv/lib/python3.7/site-packages (from tensorflow==2.5.0->-r requirements.txt (line 6)) (1.6.3)\r\n",
      "Requirement already satisfied: Shapely in ./venv/lib/python3.7/site-packages (from imgaug==0.4.0->-r requirements.txt (line 7)) (1.8.1.post1)\r\n",
      "Requirement already satisfied: imageio in ./venv/lib/python3.7/site-packages (from imgaug==0.4.0->-r requirements.txt (line 7)) (2.15.0)\r\n",
      "Requirement already satisfied: scikit-image>=0.14.2 in ./venv/lib/python3.7/site-packages (from imgaug==0.4.0->-r requirements.txt (line 7)) (0.19.2)\r\n",
      "Requirement already satisfied: cached-property in ./venv/lib/python3.7/site-packages (from h5py~=3.1.0->tensorflow==2.5.0->-r requirements.txt (line 6)) (1.5.2)\r\n",
      "Requirement already satisfied: networkx>=2.2 in ./venv/lib/python3.7/site-packages (from scikit-image>=0.14.2->imgaug==0.4.0->-r requirements.txt (line 7)) (2.6.3)\r\n",
      "Requirement already satisfied: packaging>=20.0 in ./venv/lib/python3.7/site-packages (from scikit-image>=0.14.2->imgaug==0.4.0->-r requirements.txt (line 7)) (21.3)\r\n",
      "Requirement already satisfied: tifffile>=2019.7.26 in ./venv/lib/python3.7/site-packages (from scikit-image>=0.14.2->imgaug==0.4.0->-r requirements.txt (line 7)) (2021.11.2)\r\n",
      "Requirement already satisfied: PyWavelets>=1.1.1 in ./venv/lib/python3.7/site-packages (from scikit-image>=0.14.2->imgaug==0.4.0->-r requirements.txt (line 7)) (1.3.0)\r\n",
      "Requirement already satisfied: tensorboard-plugin-wit>=1.6.0 in ./venv/lib/python3.7/site-packages (from tensorboard~=2.5->tensorflow==2.5.0->-r requirements.txt (line 6)) (1.8.1)\r\n",
      "Requirement already satisfied: google-auth<3,>=1.6.3 in ./venv/lib/python3.7/site-packages (from tensorboard~=2.5->tensorflow==2.5.0->-r requirements.txt (line 6)) (2.6.2)\r\n",
      "Requirement already satisfied: requests<3,>=2.21.0 in ./venv/lib/python3.7/site-packages (from tensorboard~=2.5->tensorflow==2.5.0->-r requirements.txt (line 6)) (2.27.1)\r\n",
      "Requirement already satisfied: setuptools>=41.0.0 in ./venv/lib/python3.7/site-packages (from tensorboard~=2.5->tensorflow==2.5.0->-r requirements.txt (line 6)) (57.0.0)\r\n",
      "Requirement already satisfied: werkzeug>=0.11.15 in ./venv/lib/python3.7/site-packages (from tensorboard~=2.5->tensorflow==2.5.0->-r requirements.txt (line 6)) (2.1.1)\r\n",
      "Requirement already satisfied: google-auth-oauthlib<0.5,>=0.4.1 in ./venv/lib/python3.7/site-packages (from tensorboard~=2.5->tensorflow==2.5.0->-r requirements.txt (line 6)) (0.4.6)\r\n",
      "Requirement already satisfied: tensorboard-data-server<0.7.0,>=0.6.0 in ./venv/lib/python3.7/site-packages (from tensorboard~=2.5->tensorflow==2.5.0->-r requirements.txt (line 6)) (0.6.1)\r\n",
      "Requirement already satisfied: markdown>=2.6.8 in ./venv/lib/python3.7/site-packages (from tensorboard~=2.5->tensorflow==2.5.0->-r requirements.txt (line 6)) (3.3.6)\r\n",
      "Requirement already satisfied: cachetools<6.0,>=2.0.0 in ./venv/lib/python3.7/site-packages (from google-auth<3,>=1.6.3->tensorboard~=2.5->tensorflow==2.5.0->-r requirements.txt (line 6)) (5.0.0)\r\n",
      "Requirement already satisfied: pyasn1-modules>=0.2.1 in ./venv/lib/python3.7/site-packages (from google-auth<3,>=1.6.3->tensorboard~=2.5->tensorflow==2.5.0->-r requirements.txt (line 6)) (0.2.8)\r\n",
      "Requirement already satisfied: rsa<5,>=3.1.4 in ./venv/lib/python3.7/site-packages (from google-auth<3,>=1.6.3->tensorboard~=2.5->tensorflow==2.5.0->-r requirements.txt (line 6)) (4.8)\r\n",
      "Requirement already satisfied: requests-oauthlib>=0.7.0 in ./venv/lib/python3.7/site-packages (from google-auth-oauthlib<0.5,>=0.4.1->tensorboard~=2.5->tensorflow==2.5.0->-r requirements.txt (line 6)) (1.3.1)\r\n",
      "Requirement already satisfied: importlib-metadata>=4.4 in ./venv/lib/python3.7/site-packages (from markdown>=2.6.8->tensorboard~=2.5->tensorflow==2.5.0->-r requirements.txt (line 6)) (4.11.3)\r\n",
      "Requirement already satisfied: zipp>=0.5 in ./venv/lib/python3.7/site-packages (from importlib-metadata>=4.4->markdown>=2.6.8->tensorboard~=2.5->tensorflow==2.5.0->-r requirements.txt (line 6)) (3.8.0)\r\n",
      "Requirement already satisfied: pyasn1<0.5.0,>=0.4.6 in ./venv/lib/python3.7/site-packages (from pyasn1-modules>=0.2.1->google-auth<3,>=1.6.3->tensorboard~=2.5->tensorflow==2.5.0->-r requirements.txt (line 6)) (0.4.8)\r\n",
      "Requirement already satisfied: idna<4,>=2.5 in ./venv/lib/python3.7/site-packages (from requests<3,>=2.21.0->tensorboard~=2.5->tensorflow==2.5.0->-r requirements.txt (line 6)) (3.3)\r\n",
      "Requirement already satisfied: charset-normalizer~=2.0.0 in ./venv/lib/python3.7/site-packages (from requests<3,>=2.21.0->tensorboard~=2.5->tensorflow==2.5.0->-r requirements.txt (line 6)) (2.0.12)\r\n",
      "Requirement already satisfied: urllib3<1.27,>=1.21.1 in ./venv/lib/python3.7/site-packages (from requests<3,>=2.21.0->tensorboard~=2.5->tensorflow==2.5.0->-r requirements.txt (line 6)) (1.26.9)\r\n",
      "Requirement already satisfied: oauthlib>=3.0.0 in ./venv/lib/python3.7/site-packages (from requests-oauthlib>=0.7.0->google-auth-oauthlib<0.5,>=0.4.1->tensorboard~=2.5->tensorflow==2.5.0->-r requirements.txt (line 6)) (3.2.0)\r\n",
      "\u001B[33mWARNING: You are using pip version 21.1.2; however, version 22.0.4 is available.\r\n",
      "You should consider upgrading via the '/Users/odhrandaly/dev/self-driving-lego-truck/venv/bin/python -m pip install --upgrade pip' command.\u001B[0m\r\n"
     ]
    }
   ],
   "source": [
    "!pip install -r requirements.txt"
   ]
  },
  {
   "cell_type": "code",
   "execution_count": 2,
   "outputs": [
    {
     "name": "stdout",
     "output_type": "stream",
     "text": [
      "AI Pipeline START\n"
     ]
    }
   ],
   "source": [
    "print('AI Pipeline START')"
   ],
   "metadata": {
    "collapsed": false,
    "pycharm": {
     "name": "#%%\n"
    }
   }
  },
  {
   "cell_type": "code",
   "execution_count": 3,
   "outputs": [
    {
     "name": "stdout",
     "output_type": "stream",
     "text": [
      "Setting UP\n"
     ]
    }
   ],
   "source": [
    "print('Setting UP')\n",
    "import os\n",
    "os.environ['TF_CPP_MIN_LOG_LEVEL'] = '3'\n",
    "from sklearn.model_selection import train_test_split\n"
   ],
   "metadata": {
    "collapsed": false,
    "pycharm": {
     "name": "#%%\n"
    }
   }
  },
  {
   "cell_type": "code",
   "execution_count": 4,
   "outputs": [
    {
     "name": "stdout",
     "output_type": "stream",
     "text": [
      "0:79 1:100 2:117 3:117 4:117 5:168 6:199  \n",
      "Total Images Imported 897\n",
      "                    Center  Steering\n",
      "0  IMG0/image_13_55_44.jpg     163.0\n",
      "1  IMG0/image_13_55_45.jpg     163.0\n",
      "2  IMG0/image_13_55_46.jpg     163.0\n",
      "3  IMG0/image_13_55_47.jpg     163.0\n",
      "4  IMG0/image_13_55_48.jpg     164.0\n"
     ]
    }
   ],
   "source": [
    "#### STEP 1 - INITIALIZE DATA\n",
    "from utlis import importDataInfo\n",
    "path = 'DataCollected'\n",
    "startFolderNumber = 0\n",
    "endFolderNumber = len(os.listdir(path)) // 2\n",
    "data = importDataInfo(path, startFolderNumber, endFolderNumber)\n",
    "print(data.head())"
   ],
   "metadata": {
    "collapsed": false,
    "pycharm": {
     "name": "#%%\n"
    }
   }
  },
  {
   "cell_type": "code",
   "execution_count": 5,
   "outputs": [
    {
     "data": {
      "text/plain": "<Figure size 432x288 with 1 Axes>",
      "image/png": "[encoded data removed]"
     },
     "metadata": {
      "needs_background": "light"
     },
     "output_type": "display_data"
    },
    {
     "name": "stdout",
     "output_type": "stream",
     "text": [
      "Removed Images: 67\n",
      "Remaining Images: 830\n"
     ]
    },
    {
     "data": {
      "text/plain": "<Figure size 432x288 with 1 Axes>",
      "image/png": "[encoded data removed]"
     },
     "metadata": {
      "needs_background": "light"
     },
     "output_type": "display_data"
    }
   ],
   "source": [
    "#### STEP 2 - VISUALIZE AND BALANCE DATA\n",
    "from utlis import balanceData\n",
    "data = balanceData(data,display=True)"
   ],
   "metadata": {
    "collapsed": false,
    "pycharm": {
     "name": "#%%\n"
    }
   }
  },
  {
   "cell_type": "code",
   "execution_count": 6,
   "outputs": [],
   "source": [
    "#### STEP 3 - PREPARE FOR PROCESSING\n",
    "from utlis import loadData\n",
    "imagesPath, steerings = loadData(path,data)\n",
    "# print('No of Path Created for Images ',len(imagesPath),len(steerings))\n",
    "# cv2.imshow('Test Image',cv2.imread(imagesPath[5]))\n",
    "# cv2.waitKey(0)"
   ],
   "metadata": {
    "collapsed": false,
    "pycharm": {
     "name": "#%%\n"
    }
   }
  },
  {
   "cell_type": "code",
   "execution_count": 7,
   "outputs": [
    {
     "name": "stdout",
     "output_type": "stream",
     "text": [
      "Total Training Images:  664\n",
      "Total Validation Images:  166\n"
     ]
    }
   ],
   "source": [
    "#### STEP 4 - SPLIT FOR TRAINING AND VALIDATION\n",
    "xTrain, xVal, yTrain, yVal = train_test_split(imagesPath, steerings,\n",
    "                                              test_size=0.2,random_state=10)\n",
    "print('Total Training Images: ',len(xTrain))\n",
    "print('Total Validation Images: ',len(xVal))"
   ],
   "metadata": {
    "collapsed": false,
    "pycharm": {
     "name": "#%%\n"
    }
   }
  },
  {
   "cell_type": "code",
   "execution_count": 8,
   "outputs": [],
   "source": [
    "#### STEP 5 - AUGMENT DATA\n",
    "\n",
    "#### STEP 6 - PREPROCESS\n",
    "\n",
    "#### STEP 7 - CREATE MODEL\n",
    "from utlis import createModel\n",
    "model = createModel()"
   ],
   "metadata": {
    "collapsed": false,
    "pycharm": {
     "name": "#%%\n"
    }
   }
  },
  {
   "cell_type": "code",
   "execution_count": null,
   "outputs": [
    {
     "name": "stdout",
     "output_type": "stream",
     "text": [
      "Epoch 1/10\n",
      " 78/100 [======================>.......] - ETA: 16s - loss: 13044.9893"
     ]
    }
   ],
   "source": [
    "#### STEP 8 - TRAINNING\n",
    "from utlis import dataGen\n",
    "history = model.fit(dataGen(xTrain, yTrain, 100, 1),\n",
    "                                  steps_per_epoch=100,\n",
    "                                  epochs=10,\n",
    "                                  validation_data=dataGen(xVal, yVal, 50, 0),\n",
    "                                  validation_steps=50)"
   ],
   "metadata": {
    "collapsed": false,
    "pycharm": {
     "name": "#%%\n",
     "is_executing": true
    }
   }
  },
  {
   "cell_type": "code",
   "execution_count": null,
   "outputs": [],
   "source": [
    "#### STEP 9 - SAVE THE MODEL\n",
    "model.save('model.h5')\n",
    "print('Model Saved')"
   ],
   "metadata": {
    "collapsed": false,
    "pycharm": {
     "name": "#%%\n"
    }
   }
  }
 ],
 "metadata": {
  "kernelspec": {
   "display_name": "Python 3",
   "language": "python",
   "name": "python3"
  },
  "language_info": {
   "codemirror_mode": {
    "name": "ipython",
    "version": 2
   },
   "file_extension": ".py",
   "mimetype": "text/x-python",
   "name": "python",
   "nbconvert_exporter": "python",
   "pygments_lexer": "ipython2",
   "version": "2.7.6"
  }
 },
 "nbformat": 4,
 "nbformat_minor": 0
}